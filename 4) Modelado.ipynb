{
 "cells": [
  {
   "attachments": {},
   "cell_type": "markdown",
   "metadata": {},
   "source": [
    "<img style=\"float: right; margin: 30px 15px 15px 15px;\" src=\"https://encrypted-tbn0.gstatic.com/images?q=tbn:ANd9GcTFzQj91sOlkeDFkg5HDbjtR4QJYmLXkfMNig&usqp=CAU\" width=\"500px\" height=\"180px\" /> \n",
    "\n",
    "\n",
    "# <font color= 'navy'> Modelado - Desempleo en USA</font>\n",
    "### <font color= #2E9AFE> Ética para la Ciencia de Datos</font>\n",
    "\n",
    "\n",
    "- <Strong> José Manuel Haces López - 734759</Strong>\n",
    "\n",
    "\n",
    "- <Strong> Claudia Celeste Castillejos Jáuregui - 735868 </Strong>\n",
    "\n",
    "\n",
    "- <Strong> Marcela Quintero Perez - 717644 </Strong>\n",
    "\n",
    "\n",
    "- <Strong> Pablo Ivan Orosco Beltran - 723252 </Strong>\n",
    "\n",
    "\n",
    "<Strong> Fecha </Strong>: 2023\n",
    "\n",
    "\n",
    "<Strong> Link GitHub </Strong>:  https://github.com/JManuelHaces/Proyecto_EticaCD"
   ]
  },
  {
   "cell_type": "code",
   "execution_count": null,
   "metadata": {},
   "outputs": [],
   "source": [
    "# Librerías\n",
    "import warnings\n",
    "import pandas as pd\n",
    "\n",
    "# Filtrar warnings\n",
    "warnings.filterwarnings('ignore')"
   ]
  },
  {
   "attachments": {},
   "cell_type": "markdown",
   "metadata": {},
   "source": [
    "## 0. Carga de Datos"
   ]
  },
  {
   "cell_type": "markdown",
   "metadata": {},
   "source": []
  }
 ],
 "metadata": {
  "kernelspec": {
   "display_name": "ITESO_Anaconda",
   "language": "python",
   "name": "python3"
  },
  "language_info": {
   "name": "python",
   "version": "3.10.9"
  },
  "orig_nbformat": 4
 },
 "nbformat": 4,
 "nbformat_minor": 2
}
