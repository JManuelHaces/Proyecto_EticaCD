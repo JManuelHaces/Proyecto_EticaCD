{
 "cells": [
  {
   "attachments": {},
   "cell_type": "markdown",
   "metadata": {},
   "source": [
    "<img style=\"float: right; margin: 30px 15px 15px 15px;\" src=\"https://encrypted-tbn0.gstatic.com/images?q=tbn:ANd9GcTFzQj91sOlkeDFkg5HDbjtR4QJYmLXkfMNig&usqp=CAU\" width=\"350px\" height=\"180px\" /> \n",
    "\n",
    "\n",
    "# <font color= 'navy'> EDA - Desempleo en USA -  Parte II</font>\n",
    "### <font color= #2E9AFE> Ética para la Ciencia de Datos</font>\n",
    "\n",
    "\n",
    "- <Strong> José Manuel Haces López - 734759</Strong>\n",
    "\n",
    "\n",
    "- <Strong> Claudia Celeste Castillejos Jáuregui - 735868 </Strong>\n",
    "\n",
    "\n",
    "- <Strong> Marcela Quintero Perez - 717644 </Strong>\n",
    "\n",
    "\n",
    "- <Strong> Pablo Ivan Orosco Beltran - 723252 </Strong>\n",
    "\n",
    "\n",
    "<Strong> Fecha </Strong>:  Mayo 2023."
   ]
  },
  {
   "cell_type": "code",
   "execution_count": 1,
   "metadata": {},
   "outputs": [],
   "source": [
    "# Preprocesamiento\n",
    "import warnings\n",
    "import numpy as np\n",
    "import pandas as pd\n",
    "import seaborn as sns\n",
    "import matplotlib.pyplot as plt\n",
    "from sklearn.model_selection import train_test_split\n",
    "\n",
    "# Modelos\n",
    "import keras\n",
    "import xgboost as xgb\n",
    "import tensorflow as tf\n",
    "from imblearn.over_sampling import SMOTE\n",
    "from sklearn.cluster import AffinityPropagation\n",
    "from sklearn.ensemble import RandomForestClassifier\n",
    "from sklearn.linear_model import LogisticRegression\n",
    "\n",
    "# Métricas\n",
    "from sklearn.metrics import accuracy_score, confusion_matrix\n",
    "\n",
    "# Configuración\n",
    "warnings.filterwarnings('ignore')"
   ]
  },
  {
   "attachments": {},
   "cell_type": "markdown",
   "metadata": {},
   "source": [
    "##  Carga de Datos"
   ]
  },
  {
   "cell_type": "code",
   "execution_count": 2,
   "metadata": {},
   "outputs": [
    {
     "data": {
      "text/html": [
       "<div>\n",
       "<style scoped>\n",
       "    .dataframe tbody tr th:only-of-type {\n",
       "        vertical-align: middle;\n",
       "    }\n",
       "\n",
       "    .dataframe tbody tr th {\n",
       "        vertical-align: top;\n",
       "    }\n",
       "\n",
       "    .dataframe thead th {\n",
       "        text-align: right;\n",
       "    }\n",
       "</style>\n",
       "<table border=\"1\" class=\"dataframe\">\n",
       "  <thead>\n",
       "    <tr style=\"text-align: right;\">\n",
       "      <th></th>\n",
       "      <th>Educacion</th>\n",
       "      <th>Raza</th>\n",
       "      <th>Genero</th>\n",
       "      <th>Ingresos</th>\n",
       "      <th>Categoria_Votante</th>\n",
       "    </tr>\n",
       "  </thead>\n",
       "  <tbody>\n",
       "    <tr>\n",
       "      <th>0</th>\n",
       "      <td>College</td>\n",
       "      <td>White</td>\n",
       "      <td>Female</td>\n",
       "      <td>$75-125k</td>\n",
       "      <td>always</td>\n",
       "    </tr>\n",
       "    <tr>\n",
       "      <th>1</th>\n",
       "      <td>College</td>\n",
       "      <td>White</td>\n",
       "      <td>Female</td>\n",
       "      <td>$125k or more</td>\n",
       "      <td>always</td>\n",
       "    </tr>\n",
       "    <tr>\n",
       "      <th>2</th>\n",
       "      <td>College</td>\n",
       "      <td>White</td>\n",
       "      <td>Male</td>\n",
       "      <td>$125k or more</td>\n",
       "      <td>sporadic</td>\n",
       "    </tr>\n",
       "    <tr>\n",
       "      <th>3</th>\n",
       "      <td>Some college</td>\n",
       "      <td>Black</td>\n",
       "      <td>Female</td>\n",
       "      <td>$40-75k</td>\n",
       "      <td>sporadic</td>\n",
       "    </tr>\n",
       "    <tr>\n",
       "      <th>4</th>\n",
       "      <td>High school or less</td>\n",
       "      <td>White</td>\n",
       "      <td>Male</td>\n",
       "      <td>$40-75k</td>\n",
       "      <td>always</td>\n",
       "    </tr>\n",
       "  </tbody>\n",
       "</table>\n",
       "</div>"
      ],
      "text/plain": [
       "             Educacion   Raza  Genero       Ingresos Categoria_Votante\n",
       "0              College  White  Female       $75-125k            always\n",
       "1              College  White  Female  $125k or more            always\n",
       "2              College  White    Male  $125k or more          sporadic\n",
       "3         Some college  Black  Female        $40-75k          sporadic\n",
       "4  High school or less  White    Male        $40-75k            always"
      ]
     },
     "execution_count": 2,
     "metadata": {},
     "output_type": "execute_result"
    }
   ],
   "source": [
    "# Cargando el conjunto de datos\n",
    "df = pd.read_csv('./Data/Procesado/Nonvoters_Dataset.csv')\n",
    "# Quitamos la columna de IDs\n",
    "df = df.drop(['RespId'], axis=1)\n",
    "# Renombramos columnas\n",
    "df = df.rename(columns={'educ': 'Educacion', 'race': 'Raza', 'gender': 'Genero', 'income_cat': 'Ingresos', 'voter_category': 'Categoria_Votante'})\n",
    "df.head()"
   ]
  },
  {
   "attachments": {},
   "cell_type": "markdown",
   "metadata": {},
   "source": [
    "## Procesamiento de los datos"
   ]
  },
  {
   "cell_type": "code",
   "execution_count": 3,
   "metadata": {},
   "outputs": [
    {
     "data": {
      "text/html": [
       "<div>\n",
       "<style scoped>\n",
       "    .dataframe tbody tr th:only-of-type {\n",
       "        vertical-align: middle;\n",
       "    }\n",
       "\n",
       "    .dataframe tbody tr th {\n",
       "        vertical-align: top;\n",
       "    }\n",
       "\n",
       "    .dataframe thead th {\n",
       "        text-align: right;\n",
       "    }\n",
       "</style>\n",
       "<table border=\"1\" class=\"dataframe\">\n",
       "  <thead>\n",
       "    <tr style=\"text-align: right;\">\n",
       "      <th></th>\n",
       "      <th>Educacion</th>\n",
       "      <th>Raza</th>\n",
       "      <th>Genero</th>\n",
       "      <th>Ingresos</th>\n",
       "      <th>Categoria_Votante</th>\n",
       "    </tr>\n",
       "  </thead>\n",
       "  <tbody>\n",
       "    <tr>\n",
       "      <th>0</th>\n",
       "      <td>College</td>\n",
       "      <td>White</td>\n",
       "      <td>Female</td>\n",
       "      <td>$75-125k</td>\n",
       "      <td>1</td>\n",
       "    </tr>\n",
       "    <tr>\n",
       "      <th>1</th>\n",
       "      <td>College</td>\n",
       "      <td>White</td>\n",
       "      <td>Female</td>\n",
       "      <td>$125k or more</td>\n",
       "      <td>1</td>\n",
       "    </tr>\n",
       "    <tr>\n",
       "      <th>2</th>\n",
       "      <td>College</td>\n",
       "      <td>White</td>\n",
       "      <td>Male</td>\n",
       "      <td>$125k or more</td>\n",
       "      <td>1</td>\n",
       "    </tr>\n",
       "    <tr>\n",
       "      <th>3</th>\n",
       "      <td>Some college</td>\n",
       "      <td>Black</td>\n",
       "      <td>Female</td>\n",
       "      <td>$40-75k</td>\n",
       "      <td>1</td>\n",
       "    </tr>\n",
       "    <tr>\n",
       "      <th>4</th>\n",
       "      <td>High school or less</td>\n",
       "      <td>White</td>\n",
       "      <td>Male</td>\n",
       "      <td>$40-75k</td>\n",
       "      <td>1</td>\n",
       "    </tr>\n",
       "  </tbody>\n",
       "</table>\n",
       "</div>"
      ],
      "text/plain": [
       "             Educacion   Raza  Genero       Ingresos  Categoria_Votante\n",
       "0              College  White  Female       $75-125k                  1\n",
       "1              College  White  Female  $125k or more                  1\n",
       "2              College  White    Male  $125k or more                  1\n",
       "3         Some college  Black  Female        $40-75k                  1\n",
       "4  High school or less  White    Male        $40-75k                  1"
      ]
     },
     "execution_count": 3,
     "metadata": {},
     "output_type": "execute_result"
    }
   ],
   "source": [
    "# Haciendo que la categoría de votante sea nuestro target y numerizándola\n",
    "df['Categoria_Votante'] = df['Categoria_Votante'].replace({'always': 1, 'sporadic': 1, 'rarely/never': 0})\n",
    "df.head()"
   ]
  },
  {
   "cell_type": "code",
   "execution_count": 4,
   "metadata": {},
   "outputs": [
    {
     "data": {
      "text/html": [
       "<div>\n",
       "<style scoped>\n",
       "    .dataframe tbody tr th:only-of-type {\n",
       "        vertical-align: middle;\n",
       "    }\n",
       "\n",
       "    .dataframe tbody tr th {\n",
       "        vertical-align: top;\n",
       "    }\n",
       "\n",
       "    .dataframe thead th {\n",
       "        text-align: right;\n",
       "    }\n",
       "</style>\n",
       "<table border=\"1\" class=\"dataframe\">\n",
       "  <thead>\n",
       "    <tr style=\"text-align: right;\">\n",
       "      <th></th>\n",
       "      <th>Categoria_Votante</th>\n",
       "      <th>Educacion_College</th>\n",
       "      <th>Educacion_High school or less</th>\n",
       "      <th>Educacion_Some college</th>\n",
       "      <th>Raza_Black</th>\n",
       "      <th>Raza_Hispanic</th>\n",
       "      <th>Raza_Other/Mixed</th>\n",
       "      <th>Raza_White</th>\n",
       "      <th>Genero_Female</th>\n",
       "      <th>Genero_Male</th>\n",
       "      <th>Ingresos_$125k or more</th>\n",
       "      <th>Ingresos_$40-75k</th>\n",
       "      <th>Ingresos_$75-125k</th>\n",
       "      <th>Ingresos_Less than $40k</th>\n",
       "    </tr>\n",
       "  </thead>\n",
       "  <tbody>\n",
       "    <tr>\n",
       "      <th>0</th>\n",
       "      <td>1</td>\n",
       "      <td>1</td>\n",
       "      <td>0</td>\n",
       "      <td>0</td>\n",
       "      <td>0</td>\n",
       "      <td>0</td>\n",
       "      <td>0</td>\n",
       "      <td>1</td>\n",
       "      <td>1</td>\n",
       "      <td>0</td>\n",
       "      <td>0</td>\n",
       "      <td>0</td>\n",
       "      <td>1</td>\n",
       "      <td>0</td>\n",
       "    </tr>\n",
       "    <tr>\n",
       "      <th>1</th>\n",
       "      <td>1</td>\n",
       "      <td>1</td>\n",
       "      <td>0</td>\n",
       "      <td>0</td>\n",
       "      <td>0</td>\n",
       "      <td>0</td>\n",
       "      <td>0</td>\n",
       "      <td>1</td>\n",
       "      <td>1</td>\n",
       "      <td>0</td>\n",
       "      <td>1</td>\n",
       "      <td>0</td>\n",
       "      <td>0</td>\n",
       "      <td>0</td>\n",
       "    </tr>\n",
       "    <tr>\n",
       "      <th>2</th>\n",
       "      <td>1</td>\n",
       "      <td>1</td>\n",
       "      <td>0</td>\n",
       "      <td>0</td>\n",
       "      <td>0</td>\n",
       "      <td>0</td>\n",
       "      <td>0</td>\n",
       "      <td>1</td>\n",
       "      <td>0</td>\n",
       "      <td>1</td>\n",
       "      <td>1</td>\n",
       "      <td>0</td>\n",
       "      <td>0</td>\n",
       "      <td>0</td>\n",
       "    </tr>\n",
       "    <tr>\n",
       "      <th>3</th>\n",
       "      <td>1</td>\n",
       "      <td>0</td>\n",
       "      <td>0</td>\n",
       "      <td>1</td>\n",
       "      <td>1</td>\n",
       "      <td>0</td>\n",
       "      <td>0</td>\n",
       "      <td>0</td>\n",
       "      <td>1</td>\n",
       "      <td>0</td>\n",
       "      <td>0</td>\n",
       "      <td>1</td>\n",
       "      <td>0</td>\n",
       "      <td>0</td>\n",
       "    </tr>\n",
       "    <tr>\n",
       "      <th>4</th>\n",
       "      <td>1</td>\n",
       "      <td>0</td>\n",
       "      <td>1</td>\n",
       "      <td>0</td>\n",
       "      <td>0</td>\n",
       "      <td>0</td>\n",
       "      <td>0</td>\n",
       "      <td>1</td>\n",
       "      <td>0</td>\n",
       "      <td>1</td>\n",
       "      <td>0</td>\n",
       "      <td>1</td>\n",
       "      <td>0</td>\n",
       "      <td>0</td>\n",
       "    </tr>\n",
       "  </tbody>\n",
       "</table>\n",
       "</div>"
      ],
      "text/plain": [
       "   Categoria_Votante  Educacion_College  Educacion_High school or less  \\\n",
       "0                  1                  1                              0   \n",
       "1                  1                  1                              0   \n",
       "2                  1                  1                              0   \n",
       "3                  1                  0                              0   \n",
       "4                  1                  0                              1   \n",
       "\n",
       "   Educacion_Some college  Raza_Black  Raza_Hispanic  Raza_Other/Mixed  \\\n",
       "0                       0           0              0                 0   \n",
       "1                       0           0              0                 0   \n",
       "2                       0           0              0                 0   \n",
       "3                       1           1              0                 0   \n",
       "4                       0           0              0                 0   \n",
       "\n",
       "   Raza_White  Genero_Female  Genero_Male  Ingresos_$125k or more  \\\n",
       "0           1              1            0                       0   \n",
       "1           1              1            0                       1   \n",
       "2           1              0            1                       1   \n",
       "3           0              1            0                       0   \n",
       "4           1              0            1                       0   \n",
       "\n",
       "   Ingresos_$40-75k  Ingresos_$75-125k  Ingresos_Less than $40k  \n",
       "0                 0                  1                        0  \n",
       "1                 0                  0                        0  \n",
       "2                 0                  0                        0  \n",
       "3                 1                  0                        0  \n",
       "4                 1                  0                        0  "
      ]
     },
     "execution_count": 4,
     "metadata": {},
     "output_type": "execute_result"
    }
   ],
   "source": [
    "# Creando dummines para las variables categóricas\n",
    "df = pd.get_dummies(df, columns=['Educacion', 'Raza', 'Genero', 'Ingresos'])\n",
    "df.head()"
   ]
  },
  {
   "attachments": {},
   "cell_type": "markdown",
   "metadata": {},
   "source": [
    "## Valanceo de Clases"
   ]
  },
  {
   "cell_type": "code",
   "execution_count": 5,
   "metadata": {},
   "outputs": [
    {
     "data": {
      "text/plain": [
       "<Axes: xlabel='Categoria_Votante', ylabel='count'>"
      ]
     },
     "execution_count": 5,
     "metadata": {},
     "output_type": "execute_result"
    },
    {
     "data": {
      "image/png": "[encoded data removed]",
      "text/plain": [
       "<Figure size 640x480 with 1 Axes>"
      ]
     },
     "metadata": {},
     "output_type": "display_data"
    }
   ],
   "source": [
    "# Plot de la variable target para ver el tamaño de las clases\n",
    "sns.countplot(x='Categoria_Votante', data=df)"
   ]
  },
  {
   "attachments": {},
   "cell_type": "markdown",
   "metadata": {},
   "source": [
    "- Tenemos datos invalanceados, usaremos SMOTE para poder balancearlos.\n",
    "    - SMOTE: Synthetic Minority Oversampling Technique es una técnica de sobremuestreo que genera muestras sintéticas de la clase minoritaria. Se basa en el algoritmo KNN (K-Nearest Neighbors) que se utiliza para crear instancias sintéticas de la clase minoritaria. Se selecciona un punto de datos de la clase minoritaria y se calculan los K vecinos más cercanos para este punto. Los puntos de datos sintéticos se crean entre el punto de datos seleccionado y sus vecinos."
   ]
  },
  {
   "cell_type": "code",
   "execution_count": 6,
   "metadata": {},
   "outputs": [
    {
     "data": {
      "image/png": "[encoded data removed]",
      "text/plain": [
       "<Figure size 640x480 with 1 Axes>"
      ]
     },
     "metadata": {},
     "output_type": "display_data"
    }
   ],
   "source": [
    "# Aplicando el SMOTE para balancear el conjunto de datos\n",
    "smote = SMOTE(random_state=0)\n",
    "X = df.drop(['Categoria_Votante'], axis=1)\n",
    "y = df['Categoria_Votante']\n",
    "X, y = smote.fit_resample(X, y)\n",
    "\n",
    "# Plot de la variable target\n",
    "sns.countplot(x=y)\n",
    "plt.show()"
   ]
  },
  {
   "cell_type": "code",
   "execution_count": 7,
   "metadata": {},
   "outputs": [
    {
     "name": "stdout",
     "output_type": "stream",
     "text": [
      "X_train shape: (7016, 13)\n",
      "X_test shape: (1754, 13)\n",
      "y_train shape: (7016, 1)\n",
      "y_test shape: (1754, 1)\n"
     ]
    }
   ],
   "source": [
    "# Dividiendo el conjunto de datos en train y test\n",
    "X_train, X_test, y_train, y_test = train_test_split(X, y, test_size=0.2, random_state=123)\n",
    "\n",
    "# Convirtiendo los datos a tensores\n",
    "X_train = tf.convert_to_tensor(X_train, dtype=tf.float32)\n",
    "X_test = tf.convert_to_tensor(X_test, dtype=tf.float32)\n",
    "y_train = tf.convert_to_tensor(y_train, dtype=tf.float32)\n",
    "y_test = tf.convert_to_tensor(y_test, dtype=tf.float32)\n",
    "\n",
    "# Agregando una dimensión a los datos de y\n",
    "y_train = tf.expand_dims(y_train, axis=1)\n",
    "y_test = tf.expand_dims(y_test, axis=1)\n",
    "\n",
    "# Mostremos la forma de los datos\n",
    "print('X_train shape:', X_train.shape)\n",
    "print('X_test shape:', X_test.shape)\n",
    "print('y_train shape:', y_train.shape)\n",
    "print('y_test shape:', y_test.shape)\n"
   ]
  },
  {
   "attachments": {},
   "cell_type": "markdown",
   "metadata": {},
   "source": [
    "## Modelado con Variables Protegidas"
   ]
  },
  {
   "attachments": {},
   "cell_type": "markdown",
   "metadata": {},
   "source": [
    "### XGBoost"
   ]
  },
  {
   "cell_type": "code",
   "execution_count": 8,
   "metadata": {},
   "outputs": [
    {
     "name": "stdout",
     "output_type": "stream",
     "text": [
      "Accuracy: 0.6174\n"
     ]
    },
    {
     "data": {
      "image/png": "[encoded data removed]",
      "text/plain": [
       "<Figure size 640x480 with 2 Axes>"
      ]
     },
     "metadata": {},
     "output_type": "display_data"
    }
   ],
   "source": [
    "# Creando el modelo de XGBoost\n",
    "xgb_model = xgb.XGBClassifier(objective=\"binary:logistic\")\n",
    "# Entrenando el modelo\n",
    "xgb_model.fit(X_train, y_train)\n",
    "\n",
    "# Haciendo predicciones\n",
    "y_pred = xgb_model.predict(X_test)\n",
    "\n",
    "# Evaluando el modelo\n",
    "print('Accuracy:', np.round(accuracy_score(y_test, y_pred), decimals=4))\n",
    "\n",
    "# Obteniendo la matriz de confusión y ploteando con seaborn\n",
    "cm = confusion_matrix(y_test, y_pred)\n",
    "sns.heatmap(cm, annot=True, fmt='g')\n",
    "plt.xlabel('Predicted')\n",
    "plt.ylabel('True')\n",
    "plt.show()\n"
   ]
  },
  {
   "attachments": {},
   "cell_type": "markdown",
   "metadata": {},
   "source": [
    "### Regresión Logística"
   ]
  },
  {
   "cell_type": "code",
   "execution_count": 9,
   "metadata": {},
   "outputs": [
    {
     "name": "stdout",
     "output_type": "stream",
     "text": [
      "Accuracy: 0.6083\n"
     ]
    },
    {
     "data": {
      "image/png": "[encoded data removed]",
      "text/plain": [
       "<Figure size 640x480 with 2 Axes>"
      ]
     },
     "metadata": {},
     "output_type": "display_data"
    }
   ],
   "source": [
    "# Creando el modelo de Regresión Logística\n",
    "lr_model = LogisticRegression()\n",
    "# Entrenando el modelo\n",
    "lr_model.fit(X_train, y_train)\n",
    "\n",
    "# Haciendo predicciones\n",
    "y_pred = lr_model.predict(X_test)\n",
    "\n",
    "# Evaluando el modelo\n",
    "print('Accuracy:', np.round(accuracy_score(y_test, y_pred), decimals=4))\n",
    "\n",
    "# Obteniendo la matriz de confusión y ploteando con seaborn\n",
    "cm = confusion_matrix(y_test, y_pred)\n",
    "sns.heatmap(cm, annot=True, fmt='g')\n",
    "plt.xlabel('Predicted')\n",
    "plt.ylabel('True')\n",
    "plt.show()"
   ]
  },
  {
   "attachments": {},
   "cell_type": "markdown",
   "metadata": {},
   "source": [
    "### Random Forest"
   ]
  },
  {
   "cell_type": "code",
   "execution_count": 10,
   "metadata": {},
   "outputs": [
    {
     "name": "stdout",
     "output_type": "stream",
     "text": [
      "Accuracy: 0.6157\n"
     ]
    },
    {
     "data": {
      "image/png": "[encoded data removed]",
      "text/plain": [
       "<Figure size 640x480 with 2 Axes>"
      ]
     },
     "metadata": {},
     "output_type": "display_data"
    }
   ],
   "source": [
    "# Creando el modelo de Random Forest\n",
    "rf_model = RandomForestClassifier()\n",
    "# Entrenando el modelo\n",
    "rf_model.fit(X_train, y_train)\n",
    "\n",
    "# Haciendo predicciones\n",
    "y_pred = rf_model.predict(X_test)\n",
    "\n",
    "# Evaluando el modelo\n",
    "print('Accuracy:', np.round(accuracy_score(y_test, y_pred), decimals=4))\n",
    "\n",
    "# Obteniendo la matriz de confusión y ploteando con seaborn\n",
    "cm = confusion_matrix(y_test, y_pred)\n",
    "sns.heatmap(cm, annot=True, fmt='g')\n",
    "plt.xlabel('Predicted')\n",
    "plt.ylabel('True')\n",
    "plt.show()"
   ]
  },
  {
   "attachments": {},
   "cell_type": "markdown",
   "metadata": {},
   "source": [
    "### MLP"
   ]
  },
  {
   "cell_type": "code",
   "execution_count": 11,
   "metadata": {},
   "outputs": [
    {
     "name": "stdout",
     "output_type": "stream",
     "text": [
      "55/55 [==============================] - 0s 2ms/step\n",
      "Accuracy: 0.6152\n"
     ]
    },
    {
     "data": {
      "image/png": "[encoded data removed]",
      "text/plain": [
       "<Figure size 640x480 with 2 Axes>"
      ]
     },
     "metadata": {},
     "output_type": "display_data"
    }
   ],
   "source": [
    "# Creando el modelo de Red Neuronal\n",
    "nn_model = keras.Sequential([\n",
    "    keras.layers.Dense(64, activation='relu', input_shape=(X_train.shape[-1],)),\n",
    "    keras.layers.Dense(32, activation='relu'),\n",
    "    keras.layers.Dense(16, activation='relu'),\n",
    "    keras.layers.Dense(1, activation='sigmoid')\n",
    "])\n",
    "\n",
    "# Compilando el modelo\n",
    "nn_model.compile(optimizer=keras.optimizers.Adam(learning_rate=0.0001), \n",
    "                 loss='binary_crossentropy', \n",
    "                 metrics=['accuracy'])\n",
    "\n",
    "# Entrenando el modelo\n",
    "nn_model.fit(X_train, \n",
    "             y_train,\n",
    "             validation_split=0.2,\n",
    "             epochs=50, \n",
    "             batch_size=32,\n",
    "             verbose=0)\n",
    "\n",
    "# Haciendo predicciones\n",
    "y_pred = nn_model.predict(X_test)\n",
    "y_pred = np.round(y_pred)\n",
    "\n",
    "# Evaluando el modelo\n",
    "print('Accuracy:', np.round(accuracy_score(y_test, y_pred), decimals=4))\n",
    "\n",
    "# Obteniendo la matriz de confusión y ploteando con seaborn\n",
    "cm = confusion_matrix(y_test, y_pred)\n",
    "sns.heatmap(cm, annot=True, fmt='g')\n",
    "plt.xlabel('Predicted')\n",
    "plt.ylabel('True')\n",
    "plt.show()"
   ]
  },
  {
   "attachments": {},
   "cell_type": "markdown",
   "metadata": {},
   "source": [
    "## Modelado sin Variables Protegidas"
   ]
  },
  {
   "cell_type": "code",
   "execution_count": 12,
   "metadata": {},
   "outputs": [
    {
     "name": "stdout",
     "output_type": "stream",
     "text": [
      "X_train shape: (7016, 7)\n",
      "X_test shape: (1754, 7)\n",
      "y_train shape: (7016, 1)\n",
      "y_test shape: (1754, 1)\n"
     ]
    }
   ],
   "source": [
    "# Cargando el conjunto de datos\n",
    "df = pd.read_csv('./Data/Procesado/Nonvoters_Dataset.csv')\n",
    "# Quitamos la columna de IDs\n",
    "df = df.drop(['RespId'], axis=1)\n",
    "# Renombramos columnas\n",
    "df = df.rename(columns={'educ': 'Educacion', 'race': 'Raza', 'gender': 'Genero', 'income_cat': 'Ingresos', 'voter_category': 'Categoria_Votante'})\n",
    "\n",
    "# Reemplazamos valores\n",
    "df['Categoria_Votante'] = df['Categoria_Votante'].replace({'always': 1, 'sporadic': 1, 'rarely/never': 0})\n",
    "\n",
    "# Creando dummines para las variables categóricas\n",
    "df = pd.get_dummies(df.drop(columns=['Raza', 'Genero']), columns=['Educacion', 'Ingresos'])\n",
    "\n",
    "\n",
    "# Aplicando el SMOTE para balancear el conjunto de datos\n",
    "smote = SMOTE(random_state=0)\n",
    "X = df.drop(['Categoria_Votante'], axis=1)\n",
    "y = df['Categoria_Votante']\n",
    "X, y = smote.fit_resample(X, y)\n",
    "\n",
    "# Dividiendo el conjunto de datos en train y test\n",
    "X_train, X_test, y_train, y_test = train_test_split(X, y, test_size=0.2, random_state=123)\n",
    "\n",
    "# Convirtiendo los datos a tensores\n",
    "X_train = tf.convert_to_tensor(X_train, dtype=tf.float32)\n",
    "X_test = tf.convert_to_tensor(X_test, dtype=tf.float32)\n",
    "y_train = tf.convert_to_tensor(y_train, dtype=tf.float32)\n",
    "y_test = tf.convert_to_tensor(y_test, dtype=tf.float32)\n",
    "\n",
    "# Agregando una dimensión a los datos de y\n",
    "y_train = tf.expand_dims(y_train, axis=1)\n",
    "y_test = tf.expand_dims(y_test, axis=1)\n",
    "\n",
    "# Mostremos la forma de los datos\n",
    "print('X_train shape:', X_train.shape)\n",
    "print('X_test shape:', X_test.shape)\n",
    "print('y_train shape:', y_train.shape)\n",
    "print('y_test shape:', y_test.shape)"
   ]
  },
  {
   "attachments": {},
   "cell_type": "markdown",
   "metadata": {},
   "source": [
    "### XGBoost"
   ]
  },
  {
   "cell_type": "code",
   "execution_count": 13,
   "metadata": {},
   "outputs": [
    {
     "name": "stdout",
     "output_type": "stream",
     "text": [
      "Accuracy: 0.6055\n"
     ]
    },
    {
     "data": {
      "image/png": "[encoded data removed]",
      "text/plain": [
       "<Figure size 640x480 with 2 Axes>"
      ]
     },
     "metadata": {},
     "output_type": "display_data"
    }
   ],
   "source": [
    "# Creando el modelo de XGBoost\n",
    "xgb_model = xgb.XGBClassifier(objective=\"binary:logistic\")\n",
    "# Entrenando el modelo\n",
    "xgb_model.fit(X_train, y_train)\n",
    "\n",
    "# Haciendo predicciones\n",
    "y_pred = xgb_model.predict(X_test)\n",
    "\n",
    "# Evaluando el modelo\n",
    "print('Accuracy:', np.round(accuracy_score(y_test, y_pred), decimals=4))\n",
    "\n",
    "# Obteniendo la matriz de confusión y ploteando con seaborn\n",
    "cm = confusion_matrix(y_test, y_pred)\n",
    "sns.heatmap(cm, annot=True, fmt='g')\n",
    "plt.xlabel('Predicted')\n",
    "plt.ylabel('True')\n",
    "plt.show()"
   ]
  },
  {
   "attachments": {},
   "cell_type": "markdown",
   "metadata": {},
   "source": [
    "### Regresión Logística]"
   ]
  },
  {
   "cell_type": "code",
   "execution_count": 14,
   "metadata": {},
   "outputs": [
    {
     "name": "stdout",
     "output_type": "stream",
     "text": [
      "Accuracy: 0.6015\n"
     ]
    },
    {
     "data": {
      "image/png": "[encoded data removed]",
      "text/plain": [
       "<Figure size 640x480 with 2 Axes>"
      ]
     },
     "metadata": {},
     "output_type": "display_data"
    }
   ],
   "source": [
    "# Creando el modelo de Regresión Logística\n",
    "lr_model = LogisticRegression()\n",
    "# Entrenando el modelo\n",
    "lr_model.fit(X_train, y_train)\n",
    "\n",
    "# Haciendo predicciones\n",
    "y_pred = lr_model.predict(X_test)\n",
    "\n",
    "# Evaluando el modelo\n",
    "print('Accuracy:', np.round(accuracy_score(y_test, y_pred), decimals=4))\n",
    "\n",
    "# Obteniendo la matriz de confusión y ploteando con seaborn\n",
    "cm = confusion_matrix(y_test, y_pred)\n",
    "sns.heatmap(cm, annot=True, fmt='g')\n",
    "plt.xlabel('Predicted')\n",
    "plt.ylabel('True')\n",
    "plt.show()"
   ]
  },
  {
   "attachments": {},
   "cell_type": "markdown",
   "metadata": {},
   "source": [
    "### Random Forest"
   ]
  },
  {
   "cell_type": "code",
   "execution_count": 15,
   "metadata": {},
   "outputs": [
    {
     "name": "stdout",
     "output_type": "stream",
     "text": [
      "Accuracy: 0.6055\n"
     ]
    },
    {
     "data": {
      "image/png": "[encoded data removed]",
      "text/plain": [
       "<Figure size 640x480 with 2 Axes>"
      ]
     },
     "metadata": {},
     "output_type": "display_data"
    }
   ],
   "source": [
    "# Creando el modelo de Random Forest\n",
    "rf_model = RandomForestClassifier()\n",
    "# Entrenando el modelo\n",
    "rf_model.fit(X_train, y_train)\n",
    "\n",
    "# Haciendo predicciones\n",
    "y_pred = rf_model.predict(X_test)\n",
    "\n",
    "# Evaluando el modelo\n",
    "print('Accuracy:', np.round(accuracy_score(y_test, y_pred), decimals=4))\n",
    "\n",
    "# Obteniendo la matriz de confusión y ploteando con seaborn\n",
    "cm = confusion_matrix(y_test, y_pred)\n",
    "sns.heatmap(cm, annot=True, fmt='g')\n",
    "plt.xlabel('Predicted')\n",
    "plt.ylabel('True')\n",
    "plt.show()"
   ]
  },
  {
   "attachments": {},
   "cell_type": "markdown",
   "metadata": {},
   "source": [
    "### MLP"
   ]
  },
  {
   "cell_type": "code",
   "execution_count": 16,
   "metadata": {},
   "outputs": [
    {
     "name": "stdout",
     "output_type": "stream",
     "text": [
      "55/55 [==============================] - 0s 2ms/step\n",
      "Accuracy: 0.6055\n"
     ]
    },
    {
     "data": {
      "image/png": "[encoded data removed]",
      "text/plain": [
       "<Figure size 640x480 with 2 Axes>"
      ]
     },
     "metadata": {},
     "output_type": "display_data"
    }
   ],
   "source": [
    "# Creando el modelo de Red Neuronal\n",
    "nn_model = keras.Sequential([\n",
    "    keras.layers.Dense(64, activation='relu', input_shape=(X_train.shape[-1],)),\n",
    "    keras.layers.Dense(32, activation='relu'),\n",
    "    keras.layers.Dense(16, activation='relu'),\n",
    "    keras.layers.Dense(1, activation='sigmoid')\n",
    "])\n",
    "\n",
    "# Compilando el modelo\n",
    "nn_model.compile(optimizer=keras.optimizers.Adam(learning_rate=0.0001),\n",
    "                 loss='binary_crossentropy',\n",
    "                 metrics=['accuracy'])\n",
    "\n",
    "# Entrenando el modelo\n",
    "nn_model.fit(X_train,\n",
    "            y_train,\n",
    "            validation_split=0.2,\n",
    "            epochs=50,\n",
    "            batch_size=32,\n",
    "            verbose=0)\n",
    "\n",
    "# Haciendo predicciones\n",
    "y_pred = nn_model.predict(X_test)\n",
    "y_pred = np.round(y_pred)\n",
    "\n",
    "# Evaluando el modelo\n",
    "print('Accuracy:', np.round(accuracy_score(y_test, y_pred), decimals=4))\n",
    "\n",
    "# Obteniendo la matriz de confusión y ploteando con seaborn\n",
    "cm = confusion_matrix(y_test, y_pred)\n",
    "sns.heatmap(cm, annot=True, fmt='g')\n",
    "plt.xlabel('Predicted')\n",
    "plt.ylabel('True')\n",
    "plt.show()"
   ]
  },
  {
   "cell_type": "code",
   "execution_count": null,
   "metadata": {},
   "outputs": [],
   "source": []
  }
 ],
 "metadata": {
  "kernelspec": {
   "display_name": "ITESO_Anaconda",
   "language": "python",
   "name": "python3"
  },
  "language_info": {
   "codemirror_mode": {
    "name": "ipython",
    "version": 3
   },
   "file_extension": ".py",
   "mimetype": "text/x-python",
   "name": "python",
   "nbconvert_exporter": "python",
   "pygments_lexer": "ipython3",
   "version": "3.10.11"
  },
  "orig_nbformat": 4
 },
 "nbformat": 4,
 "nbformat_minor": 2
}
